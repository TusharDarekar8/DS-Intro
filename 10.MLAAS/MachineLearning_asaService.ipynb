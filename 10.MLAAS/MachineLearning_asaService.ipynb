{
 "cells": [
  {
   "cell_type": "markdown",
   "metadata": {},
   "source": [
    "## Building and Deploying Machine Leanring as a Service"
   ]
  },
  {
   "cell_type": "markdown",
   "metadata": {},
   "source": [
    "<img src=\"MLaas.png\" alt=\"svm\" style=\"width:100%\">"
   ]
  },
  {
   "cell_type": "code",
   "execution_count": 1,
   "metadata": {},
   "outputs": [
    {
     "name": "stdout",
     "output_type": "stream",
     "text": [
      "Requirement already satisfied: paste in /Users/paragpradhan/anaconda3/lib/python3.6/site-packages (3.0.8)\r\n",
      "Requirement already satisfied: six>=1.4.0 in /Users/paragpradhan/anaconda3/lib/python3.6/site-packages (from paste) (1.11.0)\r\n"
     ]
    }
   ],
   "source": [
    "!pip install paste"
   ]
  },
  {
   "cell_type": "code",
   "execution_count": null,
   "metadata": {},
   "outputs": [],
   "source": [
    "! pip install cherrypy"
   ]
  },
  {
   "cell_type": "code",
   "execution_count": 3,
   "metadata": {},
   "outputs": [],
   "source": [
    "import flask\n",
    "import json\n",
    "import pandas as pd\n",
    "import numpy as np\n",
    "import cherrypy\n",
    "from paste.translogger import TransLogger\n",
    "import joblib\n",
    "import time"
   ]
  },
  {
   "cell_type": "code",
   "execution_count": 4,
   "metadata": {},
   "outputs": [
    {
     "name": "stdout",
     "output_type": "stream",
     "text": [
      " * Serving Flask app \"__main__\" (lazy loading)\n",
      " * Environment: production\n",
      "   WARNING: Do not use the development server in a production environment.\n",
      "   Use a production WSGI server instead.\n",
      " * Debug mode: off\n"
     ]
    },
    {
     "name": "stderr",
     "output_type": "stream",
     "text": [
      " * Running on http://127.0.0.1:5000/ (Press CTRL+C to quit)\n",
      "[2019-04-13 19:53:55,532] ERROR in app: Exception on /predict_spam [POST]\n",
      "Traceback (most recent call last):\n",
      "  File \"/Users/paragpradhan/anaconda3/lib/python3.6/site-packages/flask/app.py\", line 2292, in wsgi_app\n",
      "    response = self.full_dispatch_request()\n",
      "  File \"/Users/paragpradhan/anaconda3/lib/python3.6/site-packages/flask/app.py\", line 1815, in full_dispatch_request\n",
      "    rv = self.handle_user_exception(e)\n",
      "  File \"/Users/paragpradhan/anaconda3/lib/python3.6/site-packages/flask/app.py\", line 1718, in handle_user_exception\n",
      "    reraise(exc_type, exc_value, tb)\n",
      "  File \"/Users/paragpradhan/anaconda3/lib/python3.6/site-packages/flask/_compat.py\", line 35, in reraise\n",
      "    raise value\n",
      "  File \"/Users/paragpradhan/anaconda3/lib/python3.6/site-packages/flask/app.py\", line 1813, in full_dispatch_request\n",
      "    rv = self.dispatch_request()\n",
      "  File \"/Users/paragpradhan/anaconda3/lib/python3.6/site-packages/flask/app.py\", line 1799, in dispatch_request\n",
      "    return self.view_functions[rule.endpoint](**req.view_args)\n",
      "  File \"<ipython-input-4-6b6318d35e9e>\", line 15, in predict_spam\n",
      "    y_predict = model.predict(params[\"text\"])\n",
      "  File \"/Users/paragpradhan/anaconda3/lib/python3.6/site-packages/sklearn/utils/metaestimators.py\", line 118, in <lambda>\n",
      "    out = lambda *args, **kwargs: self.fn(obj, *args, **kwargs)\n",
      "  File \"/Users/paragpradhan/anaconda3/lib/python3.6/site-packages/sklearn/pipeline.py\", line 331, in predict\n",
      "    Xt = transform.transform(Xt)\n",
      "  File \"/Users/paragpradhan/anaconda3/lib/python3.6/site-packages/sklearn/feature_extraction/text.py\", line 1076, in transform\n",
      "    \"Iterable over raw text documents expected, \"\n",
      "ValueError: Iterable over raw text documents expected, string object received.\n",
      "127.0.0.1 - - [13/Apr/2019 19:53:55] \"\u001b[1m\u001b[35mPOST /predict_spam HTTP/1.1\u001b[0m\" 500 -\n"
     ]
    },
    {
     "name": "stdout",
     "output_type": "stream",
     "text": [
      "Input data for prediction\n",
      "{'text': 'Which Deep Learning Framework is Growing Fastest?” published in Towards Data Science by Jeff Hale'}\n"
     ]
    },
    {
     "name": "stderr",
     "output_type": "stream",
     "text": [
      "[2019-04-13 19:54:09,630] ERROR in app: Exception on /predict_spam [POST]\n",
      "Traceback (most recent call last):\n",
      "  File \"/Users/paragpradhan/anaconda3/lib/python3.6/site-packages/flask/app.py\", line 2292, in wsgi_app\n",
      "    response = self.full_dispatch_request()\n",
      "  File \"/Users/paragpradhan/anaconda3/lib/python3.6/site-packages/flask/app.py\", line 1815, in full_dispatch_request\n",
      "    rv = self.handle_user_exception(e)\n",
      "  File \"/Users/paragpradhan/anaconda3/lib/python3.6/site-packages/flask/app.py\", line 1718, in handle_user_exception\n",
      "    reraise(exc_type, exc_value, tb)\n",
      "  File \"/Users/paragpradhan/anaconda3/lib/python3.6/site-packages/flask/_compat.py\", line 35, in reraise\n",
      "    raise value\n",
      "  File \"/Users/paragpradhan/anaconda3/lib/python3.6/site-packages/flask/app.py\", line 1813, in full_dispatch_request\n",
      "    rv = self.dispatch_request()\n",
      "  File \"/Users/paragpradhan/anaconda3/lib/python3.6/site-packages/flask/app.py\", line 1799, in dispatch_request\n",
      "    return self.view_functions[rule.endpoint](**req.view_args)\n",
      "  File \"<ipython-input-4-6b6318d35e9e>\", line 15, in predict_spam\n",
      "    y_predict = model.predict(params[\"text\"])\n",
      "  File \"/Users/paragpradhan/anaconda3/lib/python3.6/site-packages/sklearn/utils/metaestimators.py\", line 118, in <lambda>\n",
      "    out = lambda *args, **kwargs: self.fn(obj, *args, **kwargs)\n",
      "  File \"/Users/paragpradhan/anaconda3/lib/python3.6/site-packages/sklearn/pipeline.py\", line 331, in predict\n",
      "    Xt = transform.transform(Xt)\n",
      "  File \"/Users/paragpradhan/anaconda3/lib/python3.6/site-packages/sklearn/feature_extraction/text.py\", line 1076, in transform\n",
      "    \"Iterable over raw text documents expected, \"\n",
      "ValueError: Iterable over raw text documents expected, string object received.\n",
      "127.0.0.1 - - [13/Apr/2019 19:54:09] \"\u001b[1m\u001b[35mPOST /predict_spam HTTP/1.1\u001b[0m\" 500 -\n"
     ]
    },
    {
     "name": "stdout",
     "output_type": "stream",
     "text": [
      "Input data for prediction\n",
      "{'text': 'Which Deep Learning Framework is Growing Fastest?” published in Towards Data Science by Jeff Hale'}\n"
     ]
    },
    {
     "name": "stderr",
     "output_type": "stream",
     "text": [
      "[2019-04-13 19:54:17,507] ERROR in app: Exception on /predict_spam [POST]\n",
      "Traceback (most recent call last):\n",
      "  File \"/Users/paragpradhan/anaconda3/lib/python3.6/site-packages/flask/app.py\", line 2292, in wsgi_app\n",
      "    response = self.full_dispatch_request()\n",
      "  File \"/Users/paragpradhan/anaconda3/lib/python3.6/site-packages/flask/app.py\", line 1815, in full_dispatch_request\n",
      "    rv = self.handle_user_exception(e)\n",
      "  File \"/Users/paragpradhan/anaconda3/lib/python3.6/site-packages/flask/app.py\", line 1718, in handle_user_exception\n",
      "    reraise(exc_type, exc_value, tb)\n",
      "  File \"/Users/paragpradhan/anaconda3/lib/python3.6/site-packages/flask/_compat.py\", line 35, in reraise\n",
      "    raise value\n",
      "  File \"/Users/paragpradhan/anaconda3/lib/python3.6/site-packages/flask/app.py\", line 1813, in full_dispatch_request\n",
      "    rv = self.dispatch_request()\n",
      "  File \"/Users/paragpradhan/anaconda3/lib/python3.6/site-packages/flask/app.py\", line 1799, in dispatch_request\n",
      "    return self.view_functions[rule.endpoint](**req.view_args)\n",
      "  File \"<ipython-input-4-6b6318d35e9e>\", line 15, in predict_spam\n",
      "    y_predict = model.predict(params[\"text\"])\n",
      "  File \"/Users/paragpradhan/anaconda3/lib/python3.6/site-packages/sklearn/utils/metaestimators.py\", line 118, in <lambda>\n",
      "    out = lambda *args, **kwargs: self.fn(obj, *args, **kwargs)\n",
      "  File \"/Users/paragpradhan/anaconda3/lib/python3.6/site-packages/sklearn/pipeline.py\", line 331, in predict\n",
      "    Xt = transform.transform(Xt)\n",
      "  File \"/Users/paragpradhan/anaconda3/lib/python3.6/site-packages/sklearn/feature_extraction/text.py\", line 1076, in transform\n",
      "    \"Iterable over raw text documents expected, \"\n",
      "ValueError: Iterable over raw text documents expected, string object received.\n",
      "127.0.0.1 - - [13/Apr/2019 19:54:17] \"\u001b[1m\u001b[35mPOST /predict_spam HTTP/1.1\u001b[0m\" 500 -\n"
     ]
    },
    {
     "name": "stdout",
     "output_type": "stream",
     "text": [
      "Input data for prediction\n",
      "{'text': 'Which Deep Learning Framework is Growing Fastest?” published in Towards Data Science by Jeff Hale'}\n"
     ]
    },
    {
     "name": "stderr",
     "output_type": "stream",
     "text": [
      "127.0.0.1 - - [13/Apr/2019 19:55:11] \"\u001b[37mPOST /predict_spam HTTP/1.1\u001b[0m\" 200 -\n"
     ]
    },
    {
     "name": "stdout",
     "output_type": "stream",
     "text": [
      "Input data for prediction\n",
      "{'text': ['Which Deep Learning Framework is Growing Fastest?” published in Towards Data Science by Jeff Hale']}\n",
      "{'success': True, 'predictions': 'ham'}\n"
     ]
    },
    {
     "name": "stderr",
     "output_type": "stream",
     "text": [
      "127.0.0.1 - - [13/Apr/2019 19:55:43] \"\u001b[37mPOST /predict_spam HTTP/1.1\u001b[0m\" 200 -\n"
     ]
    },
    {
     "name": "stdout",
     "output_type": "stream",
     "text": [
      "Input data for prediction\n",
      "{'text': ['Hello you have won a lottery']}\n",
      "{'success': True, 'predictions': 'spam'}\n"
     ]
    }
   ],
   "source": [
    "app = flask.Flask(__name__)\n",
    "\n",
    "model = joblib.load(\"email_classfierV1.0.model\")\n",
    "\n",
    "@app.route(\"/predict_spam\", methods = ['GET' , 'POST'])\n",
    "def predict_spam():\n",
    "    data = {'success': False}\n",
    "    params = flask.request.get_json(force = True)\n",
    "    print(\"Input data for prediction\")\n",
    "    print(params)\n",
    "    if (params == None):\n",
    "        params = flask.request.args\n",
    "        \n",
    "    if (params != None):\n",
    "        y_predict = model.predict(params[\"text\"])\n",
    "        dict_predict = {'predictions':y_predict[0]}\n",
    "        data.update(dict_predict)\n",
    "        data[\"success\"] = True\n",
    "        print(data)\n",
    "    \n",
    "    return flask.jsonify(data)\n",
    "\n",
    "app.run()\n",
    "\n",
    "        "
   ]
  },
  {
   "cell_type": "markdown",
   "metadata": {},
   "source": [
    "### Further Exploration\n",
    "\n",
    "- Flask API Micro Framework\n",
    "\n",
    "http://flask.pocoo.org/"
   ]
  },
  {
   "cell_type": "code",
   "execution_count": null,
   "metadata": {},
   "outputs": [],
   "source": []
  }
 ],
 "metadata": {
  "kernelspec": {
   "display_name": "Python 3",
   "language": "python",
   "name": "python3"
  },
  "language_info": {
   "codemirror_mode": {
    "name": "ipython",
    "version": 3
   },
   "file_extension": ".py",
   "mimetype": "text/x-python",
   "name": "python",
   "nbconvert_exporter": "python",
   "pygments_lexer": "ipython3",
   "version": "3.6.6"
  }
 },
 "nbformat": 4,
 "nbformat_minor": 2
}
