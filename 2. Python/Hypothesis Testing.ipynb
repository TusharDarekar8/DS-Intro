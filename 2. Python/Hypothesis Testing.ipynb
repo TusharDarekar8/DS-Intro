{
 "cells": [
  {
   "cell_type": "markdown",
   "metadata": {},
   "source": [
    "## Hypothesis Testing\n",
    "Used to infer the result of a hypothesis performed on sample data from a larger population. The test tells the analyst whether or not his primary hypothesis is true. \n",
    "\n",
    "> Statistical analysts test a hypothesis by measuring and examining a random sample of the population being analyzed \n",
    "\n",
    "\n",
    "Here are the steps on how we would do this\n",
    "\n",
    "1. Compute test statistic\n",
    "2. Define null hypothesis\n",
    "3. Compute p-value - *is the probability for a given statistical model that, when the null hypothesis is true*\n",
    "4. Interpret the result\n",
    "\n",
    "If p-value is very low(most often than now, below 0.05), the effect is considered statistically significant. That means that effect is unlikely to have occured by chance. The inference? The effect is likely to be seen in the population too. \n",
    "\n",
    "This process is very similar to the *proof by contradiction* paradigm. We first assume that the effect is false. That's the null hypothesis. Next step is to compute the probability of obtaining that effect (the p-value). If p-value is very low(<0.05 as a rule of thumb), we reject the null hypothesis. "
   ]
  },
  {
   "cell_type": "code",
   "execution_count": 2,
   "metadata": {},
   "outputs": [],
   "source": [
    "# Load packages\n",
    "import numpy as np\n",
    "import pandas as pd\n",
    "from scipy import stats\n",
    "from matplotlib import pyplot as plt\n",
    "import seaborn as sns\n",
    "sns.set(color_codes=True)\n",
    "%matplotlib inline"
   ]
  },
  {
   "cell_type": "code",
   "execution_count": 3,
   "metadata": {},
   "outputs": [
    {
     "data": {
      "text/html": [
       "<div>\n",
       "<style scoped>\n",
       "    .dataframe tbody tr th:only-of-type {\n",
       "        vertical-align: middle;\n",
       "    }\n",
       "\n",
       "    .dataframe tbody tr th {\n",
       "        vertical-align: top;\n",
       "    }\n",
       "\n",
       "    .dataframe thead th {\n",
       "        text-align: right;\n",
       "    }\n",
       "</style>\n",
       "<table border=\"1\" class=\"dataframe\">\n",
       "  <thead>\n",
       "    <tr style=\"text-align: right;\">\n",
       "      <th></th>\n",
       "      <th>id</th>\n",
       "      <th>Gender</th>\n",
       "      <th>Age</th>\n",
       "      <th>income</th>\n",
       "      <th>score</th>\n",
       "    </tr>\n",
       "  </thead>\n",
       "  <tbody>\n",
       "    <tr>\n",
       "      <th>0</th>\n",
       "      <td>1</td>\n",
       "      <td>Male</td>\n",
       "      <td>19</td>\n",
       "      <td>15</td>\n",
       "      <td>39</td>\n",
       "    </tr>\n",
       "    <tr>\n",
       "      <th>1</th>\n",
       "      <td>2</td>\n",
       "      <td>Male</td>\n",
       "      <td>21</td>\n",
       "      <td>15</td>\n",
       "      <td>81</td>\n",
       "    </tr>\n",
       "    <tr>\n",
       "      <th>2</th>\n",
       "      <td>3</td>\n",
       "      <td>Female</td>\n",
       "      <td>20</td>\n",
       "      <td>16</td>\n",
       "      <td>6</td>\n",
       "    </tr>\n",
       "    <tr>\n",
       "      <th>3</th>\n",
       "      <td>4</td>\n",
       "      <td>Female</td>\n",
       "      <td>23</td>\n",
       "      <td>16</td>\n",
       "      <td>77</td>\n",
       "    </tr>\n",
       "    <tr>\n",
       "      <th>4</th>\n",
       "      <td>5</td>\n",
       "      <td>Female</td>\n",
       "      <td>31</td>\n",
       "      <td>17</td>\n",
       "      <td>40</td>\n",
       "    </tr>\n",
       "  </tbody>\n",
       "</table>\n",
       "</div>"
      ],
      "text/plain": [
       "   id  Gender  Age  income  score\n",
       "0   1    Male   19      15     39\n",
       "1   2    Male   21      15     81\n",
       "2   3  Female   20      16      6\n",
       "3   4  Female   23      16     77\n",
       "4   5  Female   31      17     40"
      ]
     },
     "execution_count": 3,
     "metadata": {},
     "output_type": "execute_result"
    }
   ],
   "source": [
    "# Load our data\n",
    "df = pd.read_csv('Mall_Customers.csv')\n",
    "df.rename(columns={'CustomerID':'id','Spending Score (1-100)':'score','Annual Income (k$)':'income'},inplace=True)\n",
    "df.head() # Visualize first 5 rows of data"
   ]
  },
  {
   "cell_type": "markdown",
   "metadata": {},
   "source": [
    "### Question: Do male customers tend to spend more compared to female customers ?\n",
    "\n",
    "Below is the process of answering such questions:\n",
    "- __Translate natural language question to Mathematical Question__\n",
    "    - Spending by Males - Spending by Females > 0\n",
    "<br>\n",
    "<br>\n",
    "- __Form Hypothesis__\n",
    "    - Ho ( Null Hypothesis): It is the default statement, in our case<br>\n",
    "        __H0__ : Spending by Females - Spending by Male >= 0\n",
    "    - Ha (Alternate Hypothesis): it is the statement we want to prove <br>\n",
    "        __Ha__ : Spending by Male - Spending by Females > 0\n",
    "<br>\n",
    "<br>\n",
    "- __Define Confidence Interval__\n",
    "It is the confidence with which the null hypothesis is expected to be true.\n",
    "<img style=\"float: left;\" src = './img/hypothesis_test.gif'>\n"
   ]
  },
  {
   "cell_type": "markdown",
   "metadata": {},
   "source": [
    "__alpha__ = Significance level: of a test is a __threshold of probability α__ agreed to before the test is conducted. A typical value of __α is 0.05__ <br>\n",
    "__z-score (aka, a standard score)__ indicates how many __standard deviations__ an element is from the __mean__. A z-score can be calculated from the following formula.<br>\n",
    ">__z = (X - μ) / σ__ <br>\n",
    "where, σ standard deviation , μ - Mean <br>\n",
    "In Standard Normal Distribution: mean = 0 and standard deviaiton = 1"
   ]
  },
  {
   "cell_type": "markdown",
   "metadata": {},
   "source": [
    "- __Selection Criteria__\n",
    " - Select appropriate statistcal test\n",
    " - if p value >= 0.05 then reject Ha| Ho is likely to be true\n",
    " - if p value < 0.05 then reject Ho | Ha is likely to be true\n",
    "<br>\n",
    "<br>\n",
    "- Perform **t-test** and determine the p-value to answer our questions"
   ]
  },
  {
   "cell_type": "code",
   "execution_count": 4,
   "metadata": {},
   "outputs": [
    {
     "data": {
      "text/plain": [
       "Ttest_indResult(statistic=-0.8190464150660333, pvalue=0.4137446589852176)"
      ]
     },
     "execution_count": 4,
     "metadata": {},
     "output_type": "execute_result"
    }
   ],
   "source": [
    "maleSpend = df[df['Gender'] == 'Male']\n",
    "# maleSpend.shape to print [rows x colums] of data\n",
    "femaleSpend = df[df['Gender'] == 'Female']\n",
    "stats.ttest_ind(maleSpend['score'], femaleSpend.score, equal_var=True)"
   ]
  },
  {
   "cell_type": "markdown",
   "metadata": {},
   "source": [
    "p-value As p value is > 0.05 , we do not have enough evidence to reject Ho. Hence we reject Ha .<br>\n",
    "\n",
    "Finale piece in the puzzle is to translate the mathematical statement to Natural Language for humans to understand :)\n",
    "<br>\n",
    "<br>\n",
    "__Conclusion__ With the limited sample of 200 examples we cannot conclude that male spend more than feamles."
   ]
  },
  {
   "cell_type": "code",
   "execution_count": 22,
   "metadata": {},
   "outputs": [
    {
     "name": "stderr",
     "output_type": "stream",
     "text": [
      "/Users/paragpradhan/anaconda3/lib/python3.6/site-packages/seaborn/categorical.py:462: FutureWarning: remove_na is deprecated and is a private function. Do not use.\n",
      "  box_data = remove_na(group_data)\n"
     ]
    },
    {
     "data": {
      "image/png": "[encoded data removed]",
      "text/plain": [
       "<matplotlib.figure.Figure at 0x1a249b85c0>"
      ]
     },
     "metadata": {
      "needs_background": "light"
     },
     "output_type": "display_data"
    }
   ],
   "source": [
    "fig, ax = plt.subplots()\n",
    "fig.set_figwidth(10)\n",
    "fig.set_figheight(6)\n",
    "x = sns.boxplot(x=\"Gender\", y=\"income\", data=df)\n",
    "x = sns.swarmplot(x=\"Gender\", y=\"income\", data=df,color=\".25\")"
   ]
  },
  {
   "cell_type": "markdown",
   "metadata": {},
   "source": [
    "### Reference for deep dive in Statistics & Probability\n",
    "__Khan Academy Theory:__ https://www.khanacademy.org/math/statistics-probability/significance-tests-one-sample <br>\n",
    "<br>\n",
    "__Python Scipy package for coding statistical tests:__ https://docs.scipy.org/doc/scipy/reference/stats.html?highlight=stats#statistical-tests <br>\n",
    "<br>\n",
    "__Python Seaborn package for visualizing data:__ https://seaborn.pydata.org/tutorial.html"
   ]
  },
  {
   "cell_type": "code",
   "execution_count": null,
   "metadata": {},
   "outputs": [],
   "source": []
  }
 ],
 "metadata": {
  "kernelspec": {
   "display_name": "Python 3",
   "language": "python",
   "name": "python3"
  },
  "language_info": {
   "codemirror_mode": {
    "name": "ipython",
    "version": 3
   },
   "file_extension": ".py",
   "mimetype": "text/x-python",
   "name": "python",
   "nbconvert_exporter": "python",
   "pygments_lexer": "ipython3",
   "version": "3.6.6"
  }
 },
 "nbformat": 4,
 "nbformat_minor": 2
}
